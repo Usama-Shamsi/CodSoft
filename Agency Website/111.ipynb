{
 "cells": [
  {
   "cell_type": "code",
   "execution_count": 1,
   "metadata": {},
   "outputs": [
    {
     "ename": "NameError",
     "evalue": "name 'Student' is not defined",
     "output_type": "error",
     "traceback": [
      "\u001b[1;31m---------------------------------------------------------------------------\u001b[0m",
      "\u001b[1;31mNameError\u001b[0m                                 Traceback (most recent call last)",
      "Cell \u001b[1;32mIn[1], line 12\u001b[0m\n\u001b[0;32m     10\u001b[0m         \u001b[38;5;28mprint\u001b[39m(\u001b[38;5;124mf\u001b[39m\u001b[38;5;124m\"\u001b[39m\u001b[38;5;124mAge:\u001b[39m\u001b[38;5;132;01m{\u001b[39;00m\u001b[38;5;28mself\u001b[39m\u001b[38;5;241m.\u001b[39mAge\u001b[38;5;132;01m}\u001b[39;00m\u001b[38;5;124m\"\u001b[39m)\n\u001b[0;32m     11\u001b[0m         \u001b[38;5;66;03m# instantiating object of student class\u001b[39;00m\n\u001b[1;32m---> 12\u001b[0m Student1 \u001b[38;5;241m=\u001b[39m \u001b[43mStudent\u001b[49m(\u001b[38;5;124m\"\u001b[39m\u001b[38;5;124mJaweria\u001b[39m\u001b[38;5;124m\"\u001b[39m,\u001b[38;5;241m20\u001b[39m)\n\u001b[0;32m     13\u001b[0m Student2 \u001b[38;5;241m=\u001b[39m Student(\u001b[38;5;124m\"\u001b[39m\u001b[38;5;124mFatima\u001b[39m\u001b[38;5;124m\"\u001b[39m,\u001b[38;5;241m19\u001b[39m)\n\u001b[0;32m     14\u001b[0m student1\u001b[38;5;241m.\u001b[39mdisplay_age()\n",
      "\u001b[1;31mNameError\u001b[0m: name 'Student' is not defined"
     ]
    }
   ],
   "source": [
    "class student:\n",
    "    def _init_ (self,name , age) :\n",
    "        self.name = name\n",
    "        self.age = age\n",
    "    def set_details (self,name , age) :\n",
    "        self.name = name\n",
    "        self.age = age\n",
    "    def display_age (self) :\n",
    "        print(f\"Name:{self.name}\")\n",
    "        print(f\"Age:{self.Age}\")\n",
    "        # instantiating object of student class\n",
    "Student1 = Student(\"Jaweria\",20)\n",
    "Student2 = Student(\"Fatima\",19)\n",
    "student1.display_age()\n",
    "student2.display_age()\n",
    "    \n",
    "    \n",
    "    "
   ]
  }
 ],
 "metadata": {
  "kernelspec": {
   "display_name": "Python 3",
   "language": "python",
   "name": "python3"
  },
  "language_info": {
   "codemirror_mode": {
    "name": "ipython",
    "version": 3
   },
   "file_extension": ".py",
   "mimetype": "text/x-python",
   "name": "python",
   "nbconvert_exporter": "python",
   "pygments_lexer": "ipython3",
   "version": "3.12.0"
  }
 },
 "nbformat": 4,
 "nbformat_minor": 2
}
